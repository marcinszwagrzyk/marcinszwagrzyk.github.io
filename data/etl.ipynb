{
 "cells": [
  {
   "cell_type": "code",
   "execution_count": null,
   "metadata": {},
   "outputs": [],
   "source": [
    "\n",
    "chunk_size = 1000  # Liczba wierszy na chunk\n",
    "chunks = [df[i:i + chunk_size] for i in range(0, df.shape[0], chunk_size)]\n",
    "\n",
    "for chunk in chunks:\n",
    "    # Przetwarzaj każdy kawałek\n",
    "    print(chunk.head())  # Wypisz pierwsze wiersze każdego kawałka"
   ]
  },
  {
   "cell_type": "code",
   "execution_count": null,
   "metadata": {},
   "outputs": [],
   "source": [
    "WITH RECURSIVE date_ranges AS (\n",
    "  SELECT firma, data_zatrudnienia AS start_date, data_zwolnienia\n",
    "  FROM zatrudnienie\n",
    "  UNION ALL\n",
    "  SELECT firma, date_add(start_date, 1) AS start_date, data_zwolnienia\n",
    "  FROM date_ranges\n",
    "  WHERE date_add(start_date, 1) <= data_zwolnienia\n",
    ")\n",
    "SELECT firma, start_date AS data\n",
    "FROM date_ranges\n",
    "ORDER BY firma, start_date;"
   ]
  },
  {
   "cell_type": "code",
   "execution_count": 2,
   "metadata": {},
   "outputs": [
    {
     "name": "stdout",
     "output_type": "stream",
     "text": [
      "        data firma\n",
      "0    2010-02     A\n",
      "1    2010-03     A\n",
      "2    2010-04     A\n",
      "3    2010-05     A\n",
      "4    2010-06     A\n",
      "..       ...   ...\n",
      "714  2023-07     F\n",
      "715  2023-08     F\n",
      "716  2023-09     F\n",
      "717  2023-10     F\n",
      "718  2023-11     F\n",
      "\n",
      "[719 rows x 2 columns]\n"
     ]
    }
   ],
   "source": [
    "import pandas as pd\n",
    "from pandas.tseries.offsets import MonthBegin\n",
    "\n",
    "import pandas as pd\n",
    "\n",
    "# Przykładowe dane dla 6 firm z różnymi okresami zatrudnienia\n",
    "data = {\n",
    "    'firma': ['A', 'B', 'C', 'D', 'E', 'F'],\n",
    "    'data_zatrudnienia': ['2010-01-15', '2011-06-20', '2012-09-01', '2008-03-05', '2009-07-19', '2013-12-10'],\n",
    "    'data_zwolnienia': ['2020-02-28', '2021-06-30', '2022-08-31', '2018-02-28', '2019-07-30', '2023-11-30']\n",
    "}\n",
    "\n",
    "df = pd.DataFrame(data)\n",
    "df['data_zatrudnienia'] = pd.to_datetime(df['data_zatrudnienia'])\n",
    "df['data_zwolnienia'] = pd.to_datetime(df['data_zwolnienia'])\n",
    "\n",
    "# Rozszerzenie zakres\n",
    "\n",
    "# Rozszerzenie zakresu dat\n",
    "rows = []\n",
    "for _, row in df.iterrows():\n",
    "    r = pd.date_range(start=row['data_zatrudnienia'], end=row['data_zwolnienia'], freq='MS')\n",
    "    expanded_rows = [(date.strftime('%Y-%m'), row['firma']) for date in r]\n",
    "    rows.extend(expanded_rows)\n",
    "\n",
    "# Tworzenie nowego DataFrame\n",
    "result_df = pd.DataFrame(rows, columns=['data', 'firma'])\n",
    "\n",
    "print(result_df)\n"
   ]
  },
  {
   "cell_type": "code",
   "execution_count": null,
   "metadata": {},
   "outputs": [],
   "source": [
    "df['money_float'] = df['money_string'].replace(',', '', regex=True).astype(float)"
   ]
  },
  {
   "cell_type": "code",
   "execution_count": null,
   "metadata": {},
   "outputs": [],
   "source": [
    "SELECT DISTINCT ON (col1, col2, col3) *\n",
    "FROM tabela\n",
    "ORDER BY col1, col2, col3;"
   ]
  },
  {
   "cell_type": "code",
   "execution_count": null,
   "metadata": {},
   "outputs": [],
   "source": [
    "SELECT col1, col2, col3, MAX(col4) as MaxCol4, MIN(col5) as MinCol5\n",
    "FROM tabela\n",
    "GROUP BY col1, col2, col3;"
   ]
  },
  {
   "cell_type": "code",
   "execution_count": null,
   "metadata": {},
   "outputs": [],
   "source": [
    "WITH RankedRecords AS (\n",
    "  SELECT \n",
    "    individual_id, \n",
    "    company_crd, \n",
    "    date_start, \n",
    "    date_end, \n",
    "    company_name,\n",
    "    ROW_NUMBER() OVER (\n",
    "      PARTITION BY individual_id, company_crd, date_start \n",
    "      ORDER BY date_end DESC\n",
    "    ) as rn\n",
    "  FROM \n",
    "    tabela\n",
    ")\n",
    "SELECT \n",
    "  individual_id, \n",
    "  company_crd, \n",
    "  date_start, \n",
    "  date_end, \n",
    "  company_name\n",
    "FROM \n",
    "  RankedRecords\n",
    "WHERE \n",
    "  rn = 1;\n"
   ]
  }
 ],
 "metadata": {
  "kernelspec": {
   "display_name": "GeoPython_Ukraine2024_v2",
   "language": "python",
   "name": "python3"
  },
  "language_info": {
   "codemirror_mode": {
    "name": "ipython",
    "version": 3
   },
   "file_extension": ".py",
   "mimetype": "text/x-python",
   "name": "python",
   "nbconvert_exporter": "python",
   "pygments_lexer": "ipython3",
   "version": "3.10.13"
  }
 },
 "nbformat": 4,
 "nbformat_minor": 2
}
