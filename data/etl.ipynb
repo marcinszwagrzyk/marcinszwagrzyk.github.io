{
 "cells": [
  {
   "cell_type": "code",
   "execution_count": null,
   "metadata": {},
   "outputs": [],
   "source": [
    "SELECT DISTINCT ON (col1, col2, col3) *\n",
    "FROM tabela\n",
    "ORDER BY col1, col2, col3;"
   ]
  },
  {
   "cell_type": "code",
   "execution_count": null,
   "metadata": {},
   "outputs": [],
   "source": [
    "SELECT col1, col2, col3, MAX(col4) as MaxCol4, MIN(col5) as MinCol5\n",
    "FROM tabela\n",
    "GROUP BY col1, col2, col3;"
   ]
  }
 ],
 "metadata": {
  "language_info": {
   "name": "python"
  }
 },
 "nbformat": 4,
 "nbformat_minor": 2
}
