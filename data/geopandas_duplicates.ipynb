{
 "cells": [
  {
   "cell_type": "code",
   "execution_count": null,
   "metadata": {},
   "outputs": [],
   "source": [
    "import geopandas as gpd\n",
    "from shapely.geometry import Point\n",
    "\n",
    "# Przykładowe dane\n",
    "data = {\n",
    "    'geometry': [Point(1, 1), Point(2, 2), Point(1, 1), Point(3, 3), Point(2, 2)],\n",
    "    'value': [10, 20, 30, 40, 50]\n",
    "}\n",
    "\n",
    "# Utworzenie GeoDataFrame\n",
    "gdf = gpd.GeoDataFrame(data)\n",
    "\n",
    "# Tworzenie buforów o promieniu 10 jednostek (np. metrów)\n",
    "buffered_gdf = gdf.copy()\n",
    "buffered_gdf['geometry'] = gdf.geometry.buffer(10)\n",
    "\n",
    "# Przekształcenie buforów do pojedynczej geometrii wielokątów\n",
    "buffered_union = buffered_gdf.unary_union\n",
    "\n",
    "# Sprawdzenie, które punkty znajdują się w nakładających się buforach\n",
    "duplicate_indices = []\n",
    "for index, row in gdf.iterrows():\n",
    "    point_buffer = row.geometry.buffer(10)\n",
    "    if buffered_union.intersects(point_buffer) and not buffered_union.equals(point_buffer):\n",
    "        duplicate_indices.append(index)\n",
    "\n",
    "# Wyświetlenie duplikatów\n",
    "duplicates = gdf.loc[duplicate_indices]\n",
    "print(duplicates)\n"
   ]
  }
 ],
 "metadata": {
  "language_info": {
   "name": "python"
  }
 },
 "nbformat": 4,
 "nbformat_minor": 2
}
