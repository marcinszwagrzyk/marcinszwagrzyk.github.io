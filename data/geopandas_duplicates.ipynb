{
 "cells": [
  {
   "cell_type": "code",
   "execution_count": null,
   "metadata": {},
   "outputs": [],
   "source": [
    "import geopandas as gpd\n",
    "from shapely.geometry import Point\n",
    "\n",
    "# Przykładowe dane\n",
    "data = {\n",
    "    'geometry': [Point(1, 1), Point(2, 2), Point(1.05, 1.05), Point(3, 3), Point(2.1, 2.1)],\n",
    "    'value': [10, 20, 30, 40, 50]\n",
    "}\n",
    "\n",
    "# Utworzenie GeoDataFrame\n",
    "gdf = gpd.GeoDataFrame(data)\n",
    "\n",
    "# Tworzenie buforów o promieniu 10 jednostek (np. metrów)\n",
    "buffered_gdf = gdf.copy()\n",
    "buffered_gdf['buffer'] = gdf.geometry.buffer(10)\n",
    "\n",
    "# Sprawdzenie, które punkty znajdują się w nakładających się buforach\n",
    "duplicate_indices = set()\n",
    "for i, row_i in buffered_gdf.iterrows():\n",
    "    for j, row_j in buffered_gdf.iterrows():\n",
    "        if i != j and row_i['buffer'].intersects(row_j['geometry']):\n",
    "            duplicate_indices.add(i)\n",
    "            duplicate_indices.add(j)\n",
    "\n",
    "# Wyświetlenie duplikatów\n",
    "duplicates = gdf.loc[duplicate_indices]\n",
    "print(duplicates)\n"
   ]
  }
 ],
 "metadata": {
  "language_info": {
   "name": "python"
  }
 },
 "nbformat": 4,
 "nbformat_minor": 2
}
