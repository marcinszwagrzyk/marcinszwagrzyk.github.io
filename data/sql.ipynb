{
 "cells": [
  {
   "cell_type": "code",
   "execution_count": null,
   "metadata": {},
   "outputs": [],
   "source": [
    "WITH EmployeeHistory AS (\n",
    "    SELECT \n",
    "        individual_id, \n",
    "        ds,\n",
    "        LAG(ds) OVER (PARTITION BY individual_id ORDER BY ds) AS previous_ds\n",
    "    FROM pracownicy\n",
    "),\n",
    "ReturningEmployees AS (\n",
    "    SELECT \n",
    "        individual_id,\n",
    "        ds\n",
    "    FROM EmployeeHistory\n",
    "    WHERE previous_ds IS NOT NULL AND months_between(ds, previous_ds) > 1\n",
    ")\n",
    "SELECT \n",
    "    ds, \n",
    "    COUNT(DISTINCT individual_id) AS liczba_powracajacych_pracownikow\n",
    "FROM ReturningEmployees\n",
    "GROUP BY ds\n",
    "ORDER BY ds;\n"
   ]
  }
 ],
 "metadata": {
  "language_info": {
   "name": "python"
  }
 },
 "nbformat": 4,
 "nbformat_minor": 2
}
