{
 "cells": [
  {
   "cell_type": "code",
   "execution_count": null,
   "metadata": {},
   "outputs": [],
   "source": [
    "SELECT a.*\n",
    "FROM TableA a\n",
    "LEFT JOIN TableB b\n",
    "ON a.Column1 = b.Column1 AND a.Column2 = b.Column2\n",
    "WHERE b.KeyColumn IS NULL;\n"
   ]
  }
 ],
 "metadata": {
  "language_info": {
   "name": "python"
  }
 },
 "nbformat": 4,
 "nbformat_minor": 2
}
