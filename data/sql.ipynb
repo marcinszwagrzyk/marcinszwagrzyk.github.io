{
 "cells": [
  {
   "cell_type": "code",
   "execution_count": null,
   "metadata": {},
   "outputs": [],
   "source": [
    "WITH SortedEmployees AS (\n",
    "    SELECT \n",
    "        individual_id, \n",
    "        ds,\n",
    "        LAG(ds) OVER (PARTITION BY individual_id ORDER BY ds) AS previous_ds\n",
    "    FROM pracownicy\n",
    "),\n",
    "NewEmployees AS (\n",
    "    SELECT \n",
    "        individual_id,\n",
    "        ds\n",
    "    FROM SortedEmployees\n",
    "    WHERE previous_ds IS NULL\n",
    ")\n",
    "SELECT \n",
    "    ds, \n",
    "    COUNT(DISTINCT individual_id) AS liczba_nowych_pracownikow\n",
    "FROM NewEmployees\n",
    "GROUP BY ds\n",
    "ORDER BY ds;\n"
   ]
  }
 ],
 "metadata": {
  "language_info": {
   "name": "python"
  }
 },
 "nbformat": 4,
 "nbformat_minor": 2
}
