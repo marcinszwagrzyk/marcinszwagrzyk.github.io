{
 "cells": [
  {
   "cell_type": "code",
   "execution_count": null,
   "metadata": {},
   "outputs": [],
   "source": [
    "WITH EmployeeHistory AS (\n",
    "    SELECT \n",
    "        individual_id, \n",
    "        ds,\n",
    "        LAG(ds) OVER (PARTITION BY individual_id ORDER BY ds) AS previous_ds\n",
    "    FROM pracownicy\n",
    "),\n",
    "ReturningEmployees AS (\n",
    "    SELECT \n",
    "        individual_id,\n",
    "        ds\n",
    "    FROM EmployeeHistory\n",
    "    WHERE previous_ds IS NOT NULL AND months_between(ds, previous_ds) > 1\n",
    ")\n",
    "SELECT \n",
    "    ds, \n",
    "    COUNT(DISTINCT individual_id) AS liczba_powracajacych_pracownikow\n",
    "FROM ReturningEmployees\n",
    "GROUP BY ds\n",
    "ORDER BY ds;\n"
   ]
  },
  {
   "cell_type": "code",
   "execution_count": null,
   "metadata": {},
   "outputs": [],
   "source": [
    "SELECT \n",
    "    a.date AS Current_Date,\n",
    "    a.state AS State,\n",
    "    a.company AS Company,\n",
    "    a.value AS Current_Value,\n",
    "    b.date AS Previous_Year_Date,\n",
    "    b.value AS Previous_Year_Value,\n",
    "    (a.value / b.value - 1) * 100 AS YoY_Percentage\n",
    "FROM \n",
    "    sales_data a\n",
    "LEFT JOIN \n",
    "    sales_data b \n",
    "ON \n",
    "    a.date = date_add(b.date, 365)\n",
    "    AND a.state = b.state\n",
    "    AND a.company = b.company\n"
   ]
  },
  {
   "cell_type": "code",
   "execution_count": null,
   "metadata": {},
   "outputs": [],
   "source": [
    "SELECT \n",
    "    to_date(date_string, 'yyyy-MM-dd') AS date_converted\n",
    "FROM \n",
    "    your_table_name\n"
   ]
  },
  {
   "cell_type": "code",
   "execution_count": null,
   "metadata": {},
   "outputs": [],
   "source": [
    "data_dict = {\n",
    "    'id': [1, 2, 3],\n",
    "    'name': ['Alice', 'Bob', 'Charlie'],\n",
    "    'age': [25, 30, 35]\n",
    "}\n",
    "\n",
    "df = spark.createDataFrame(pd.DataFrame(data_dict))\n",
    "df.createOrReplaceTempView(\"people\")"
   ]
  },
  {
   "cell_type": "code",
   "execution_count": null,
   "metadata": {},
   "outputs": [],
   "source": [
    "ALTER TABLE my_table\n",
    "ADD COLUMN country_code VARCHAR(10);"
   ]
  },
  {
   "cell_type": "code",
   "execution_count": null,
   "metadata": {},
   "outputs": [],
   "source": [
    "SELECT \n",
    "  MAX(CASE WHEN metric = 'bezrobocie' THEN metric_value END) AS bezrobocie,\n",
    "  MAX(CASE WHEN metric = 'zarobki' THEN metric_value END) AS zarobki,\n",
    "  MAX(CASE WHEN metric = 'temperatura' THEN metric_value END) AS temperatura\n",
    "FROM \n",
    "  twoja_tabela\n",
    "GROUP BY \n",
    "  identyfikator_wiersza;  -- Zakładając, że istnieje kolumna, która identyfikuje poszczególne rekordy\n"
   ]
  }
 ],
 "metadata": {
  "kernelspec": {
   "display_name": "GeoPython_Ukraine2024_v2",
   "language": "python",
   "name": "python3"
  },
  "language_info": {
   "name": "python",
   "version": "3.10.13"
  }
 },
 "nbformat": 4,
 "nbformat_minor": 2
}
