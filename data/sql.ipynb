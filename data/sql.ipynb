{
 "cells": [
  {
   "cell_type": "code",
   "execution_count": null,
   "metadata": {},
   "outputs": [],
   "source": [
    "SELECT ds, COUNT(DISTINCT individual_pk) AS employees_multiple_companies\n",
    "FROM (\n",
    "    SELECT \n",
    "        DATE_TRUNC('month', ds) as month_ds,\n",
    "        DATE_TRUNC('month', employment_date) as month_employment,\n",
    "        DATE_TRUNC('month', date_to) as month_date_to,\n",
    "        individual_pk,\n",
    "        COUNT(DISTINCT company_crd) AS companies_count\n",
    "    FROM employees\n",
    "    GROUP BY individual_pk, month_ds, month_employment, month_date_to\n",
    "    HAVING month_ds = month_employment \n",
    "          AND (month_date_to IS NULL OR month_date_to >= month_ds)\n",
    "          AND companies_count > 1\n",
    ") AS subquery\n",
    "GROUP BY ds;\n"
   ]
  }
 ],
 "metadata": {
  "language_info": {
   "name": "python"
  }
 },
 "nbformat": 4,
 "nbformat_minor": 2
}
