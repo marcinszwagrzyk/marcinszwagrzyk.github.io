{
 "cells": [
  {
   "cell_type": "code",
   "execution_count": null,
   "metadata": {},
   "outputs": [],
   "source": [
    "WITH EmployeeHistory AS (\n",
    "    SELECT \n",
    "        individual_id, \n",
    "        ds,\n",
    "        LAG(ds) OVER (PARTITION BY individual_id ORDER BY ds) AS previous_ds,\n",
    "        LAG(ds, 2) OVER (PARTITION BY individual_id ORDER BY ds) AS previous_ds_2\n",
    "    FROM pracownicy\n",
    "),\n",
    "ReturningEmployees AS (\n",
    "    SELECT \n",
    "        individual_id,\n",
    "        ds\n",
    "    FROM EmployeeHistory\n",
    "    WHERE previous_ds_2 IS NOT NULL AND previous_ds IS NULL\n",
    ")\n",
    "SELECT \n",
    "    ds, \n",
    "    COUNT(DISTINCT individual_id) AS liczba_powracajacych_pracownikow\n",
    "FROM ReturningEmployees\n",
    "GROUP BY ds\n",
    "ORDER BY ds;\n"
   ]
  }
 ],
 "metadata": {
  "language_info": {
   "name": "python"
  }
 },
 "nbformat": 4,
 "nbformat_minor": 2
}
