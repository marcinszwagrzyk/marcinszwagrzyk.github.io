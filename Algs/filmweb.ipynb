{
 "cells": [
  {
   "cell_type": "code",
   "execution_count": 13,
   "id": "ab3420f8",
   "metadata": {},
   "outputs": [
    {
     "name": "stdout",
     "output_type": "stream",
     "text": [
      "Nie znaleziono informacji o miejscu kręcenia.\n"
     ]
    }
   ],
   "source": [
    "import requests\n",
    "from bs4 import BeautifulSoup\n",
    "import re\n",
    "\n",
    "def get_filming_locations(url):\n",
    "    headers = {\n",
    "        \"User-Agent\": \"Mozilla/5.0\"\n",
    "    }\n",
    "\n",
    "    response = requests.get(url, headers=headers)\n",
    "    if response.status_code != 200:\n",
    "        print(f\"Błąd przy pobieraniu strony: {response.status_code}\")\n",
    "        return\n",
    "\n",
    "    soup = BeautifulSoup(response.text, \"html.parser\")\n",
    "\n",
    "    # Szukamy wszystkich bloków ciekawostek\n",
    "    trivia_blocks = soup.select(\"div.trivia__item\")\n",
    "\n",
    "    # Lista słów kluczowych związanych z miejscem kręcenia\n",
    "    keywords = [\"miejsce kręcenia\", \"lokacja\", \"lokalizacja\", \"gdzie kręcono\", \"lokacje\"]\n",
    "\n",
    "    found = False\n",
    "    for block in trivia_blocks:\n",
    "        text = block.get_text(strip=True).lower()\n",
    "        if any(keyword in text for keyword in keywords):\n",
    "            print(\"Znalezione informacje o miejscu kręcenia:\")\n",
    "            print(block.get_text(strip=True))\n",
    "            found = True\n",
    "\n",
    "    if not found:\n",
    "        print(\"Nie znaleziono informacji o miejscu kręcenia.\")\n",
    "\n",
    "# Przykład użycia:\n",
    "filmweb_trivia_url = \"https://www.filmweb.pl/film/Zwyczajna+przys%C5%82uga-2018-807555/trivia\"\n",
    "get_filming_locations(filmweb_trivia_url)\n"
   ]
  },
  {
   "cell_type": "code",
   "execution_count": null,
   "id": "73c3dd6f",
   "metadata": {},
   "outputs": [],
   "source": []
  }
 ],
 "metadata": {
  "kernelspec": {
   "display_name": "GeoPython_Ukraine2024_v2",
   "language": "python",
   "name": "python3"
  },
  "language_info": {
   "codemirror_mode": {
    "name": "ipython",
    "version": 3
   },
   "file_extension": ".py",
   "mimetype": "text/x-python",
   "name": "python",
   "nbconvert_exporter": "python",
   "pygments_lexer": "ipython3",
   "version": "3.10.13"
  }
 },
 "nbformat": 4,
 "nbformat_minor": 5
}
