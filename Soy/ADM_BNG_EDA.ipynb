{
 "cells": [
  {
   "cell_type": "code",
   "execution_count": 3,
   "id": "bc7f68c9",
   "metadata": {},
   "outputs": [
    {
     "data": {
      "text/plain": [
       "'data\\\\weekly_prices_BG_ADM_SOY_with_weather.csv'"
      ]
     },
     "execution_count": 3,
     "metadata": {},
     "output_type": "execute_result"
    }
   ],
   "source": [
    "import os\n",
    "import pandas as pd\n",
    "import matplotlib.pyplot as plt\n",
    "\n",
    "# --- USTAWIENIA ---\n",
    "OUT_DIR = \"data\"\n",
    "OUT_CSV = os.path.join(OUT_DIR, \"weekly_prices_BG_ADM_SOY_with_weather.csv\")\n",
    "OUT_CSV\n",
    "\n",
    "# # --- WCZYTYWANIE DANYCH ---\n",
    "# df = pd.read_csv(OUT_CSV)\n",
    "# df['date'] = pd.to_datetime(df['date'])  # Konwersja kolumny 'date' na format daty\n",
    "\n",
    "# # --- WYKRES SZEREGU CZASOWEGO ---\n",
    "# plt.figure(figsize=(10, 6))\n",
    "# plt.plot(df['date'], df['ADM'], label='ADM', color='#1f77b4')\n",
    "# plt.plot(df['date'], df['BG'], label='BG', color='#ff7f0e')\n",
    "# plt.plot(df['date'], df['SOY'], label='SOY', color='#2ca02c')\n",
    "# plt.title('Time Series of ADM, BG, and SOY Prices (5 Years)')\n",
    "# plt.xlabel('Date')\n",
    "# plt.ylabel('Price (USD)')\n",
    "# plt.legend()\n",
    "# plt.grid(True)\n",
    "# plt.tight_layout()\n",
    "# plt.show()\n",
    "\n",
    "# # --- WYKRES PUNKTOWY ---\n",
    "# plt.figure(figsize=(10, 8))\n",
    "\n",
    "# # ADM vs BG\n",
    "# plt.subplot(3, 1, 1)\n",
    "# plt.scatter(df['ADM'], df['BG'], color='#1f77b4', alpha=0.5)\n",
    "# plt.title('Scatter Plot: ADM vs BG')\n",
    "# plt.xlabel('ADM Price (USD)')\n",
    "# plt.ylabel('BG Price (USD)')\n",
    "# plt.grid(True)\n",
    "\n",
    "# # ADM vs SOY\n",
    "# plt.subplot(3, 1, 2)\n",
    "# plt.scatter(df['ADM'], df['SOY'], color='#ff7f0e', alpha=0.5)\n",
    "# plt.title('Scatter Plot: ADM vs SOY')\n",
    "# plt.xlabel('ADM Price (USD)')\n",
    "# plt.ylabel('SOY Price (USD)')\n",
    "# plt.grid(True)\n",
    "\n",
    "# # BG vs SOY\n",
    "# plt.subplot(3, 1, 3)\n",
    "# plt.scatter(df['BG'], df['SOY'], color='#2ca02c', alpha=0.5)\n",
    "# plt.title('Scatter Plot: BG vs SOY')\n",
    "# plt.xlabel('BG Price (USD)')\n",
    "# plt.ylabel('SOY Price (USD)')\n",
    "# plt.grid(True)\n",
    "\n",
    "# plt.tight_layout()"
   ]
  },
  {
   "cell_type": "code",
   "execution_count": null,
   "id": "55fabb77",
   "metadata": {},
   "outputs": [],
   "source": []
  }
 ],
 "metadata": {
  "kernelspec": {
   "display_name": "GeoPython_Ukraine2024_v2",
   "language": "python",
   "name": "python3"
  },
  "language_info": {
   "codemirror_mode": {
    "name": "ipython",
    "version": 3
   },
   "file_extension": ".py",
   "mimetype": "text/x-python",
   "name": "python",
   "nbconvert_exporter": "python",
   "pygments_lexer": "ipython3",
   "version": "3.10.13"
  }
 },
 "nbformat": 4,
 "nbformat_minor": 5
}
