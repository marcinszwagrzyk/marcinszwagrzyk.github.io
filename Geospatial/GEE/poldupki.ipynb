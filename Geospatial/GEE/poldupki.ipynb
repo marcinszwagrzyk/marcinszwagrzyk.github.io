{
 "cells": [
  {
   "cell_type": "code",
   "execution_count": 12,
   "metadata": {},
   "outputs": [
    {
     "data": {
      "image/png": "[encoded data removed]",
      "text/plain": [
       "<Figure size 600x600 with 1 Axes>"
      ]
     },
     "metadata": {},
     "output_type": "display_data"
    }
   ],
   "source": [
    "import matplotlib.pyplot as plt\n",
    "from matplotlib.patches import Wedge\n",
    "\n",
    "# Funkcja do rysowania wycinków półkola\n",
    "def draw_half_circle(ax, center, radius, start_angle, sizes, colors):\n",
    "    \"\"\"\n",
    "    Rysuje wycinki półkola na podanym wykresie.\n",
    "    \n",
    "    Parametry:\n",
    "    - ax: obiekt osi matplotlib\n",
    "    - center: (x, y) - środek koła\n",
    "    - radius: promień półkola\n",
    "    - start_angle: kąt początkowy (0 lub 180), w stopniach\n",
    "    - sizes: lista wartości proporcji (np. [1, 2, 1])\n",
    "    - colors: lista kolorów odpowiadająca każdemu wycinkowi\n",
    "    \"\"\"\n",
    "    assert sum(sizes) > 0, \"Suma proporcji musi być większa od zera.\"\n",
    "    total = sum(sizes)\n",
    "    angle_extent = 180\n",
    "    angles = [s / total * angle_extent for s in sizes]\n",
    "    \n",
    "    current_angle = start_angle\n",
    "    for size_angle, color in zip(angles, colors):\n",
    "        wedge = Wedge(center, radius, current_angle, current_angle + size_angle, facecolor=color, edgecolor='white')\n",
    "        ax.add_patch(wedge)\n",
    "        current_angle += size_angle\n",
    "\n",
    "# Przykładowe użycie funkcji\n",
    "fig, ax = plt.subplots(figsize=(6, 6))\n",
    "ax.set_aspect('equal')\n",
    "\n",
    "# Parametry\n",
    "colors = ['blue', 'red', 'yellow']\n",
    "colors_r = ['yellow', 'red', 'blue']\n",
    "\n",
    "# Rysuj półkole\n",
    "draw_half_circle(ax=ax, center=(0, 0), radius=1, start_angle=90, sizes=[1,2,3], colors=colors)\n",
    "draw_half_circle(ax=ax, center=(0, 0), radius=2, start_angle=270, sizes=[1,2,3][::-1], colors=colors_r)\n",
    "\n",
    "# Ustawienia wykresu\n",
    "ax.set_xlim(-3, 3)\n",
    "ax.set_ylim(-3, 3)\n",
    "ax.axis('off')\n",
    "\n",
    "# Dodanie czarnej pionowej linii dzielącej półkola (większa niż największe koło)\n",
    "line_length = 4.5\n",
    "ax.plot([0, 0], [-line_length / 2, line_length / 2], color='black', linewidth=2)\n",
    "\n",
    "\n",
    "plt.show()\n"
   ]
  },
  {
   "cell_type": "code",
   "execution_count": null,
   "metadata": {},
   "outputs": [],
   "source": []
  }
 ],
 "metadata": {
  "kernelspec": {
   "display_name": "GeoPython_Ukraine2024_v2",
   "language": "python",
   "name": "python3"
  },
  "language_info": {
   "codemirror_mode": {
    "name": "ipython",
    "version": 3
   },
   "file_extension": ".py",
   "mimetype": "text/x-python",
   "name": "python",
   "nbconvert_exporter": "python",
   "pygments_lexer": "ipython3",
   "version": "3.10.13"
  }
 },
 "nbformat": 4,
 "nbformat_minor": 2
}
