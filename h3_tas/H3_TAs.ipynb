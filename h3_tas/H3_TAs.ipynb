{
 "cells": [
  {
   "cell_type": "code",
   "execution_count": 1,
   "metadata": {},
   "outputs": [],
   "source": [
    "import geopandas as gpd\n",
    "import pandas as pd\n",
    "import h3\n",
    "import shapely\n",
    "from shapely import Polygon\n",
    "import os\n",
    "import warnings\n",
    "warnings.filterwarnings(\"ignore\")  # Silence some warnings"
   ]
  },
  {
   "cell_type": "code",
   "execution_count": null,
   "metadata": {},
   "outputs": [],
   "source": [
    "\n",
    "new_df = pd.read_csv('h3_routing_dict.csv')\n",
    "new_df\n",
    "\n",
    "def get_all_possible(hex_cell, budget):\n",
    "    neighbors = h3.k_ring(hex_cell, 1)\n",
    "    list_available_cells = []\n",
    "    list_budgets = []\n",
    "\n",
    "    for h3_nejb in neighbors:\n",
    "        try:\n",
    "            h3_nejb_time = new_df[(new_df['from'] == hex_cell) & (new_df['to'] == h3_nejb)]['time'].values[0]\n",
    "            if h3_nejb_time <= budget: # todo check h3 nejb time\n",
    "                list_available_cells.append(h3_nejb)\n",
    "                list_budgets.append(budget - h3_nejb_time)\n",
    "        except:\n",
    "            pass\n",
    "            \n",
    "    return list_available_cells, list_budgets\n",
    "\n",
    "\n",
    "def get_trade_area(hex_cell, budget):\n",
    "    list_trade_areas = []\n",
    "    queue = [(hex_cell, budget)]  # Inicjalizuj kolejkę z komórką startową i budżetem\n",
    "\n",
    "    while queue:\n",
    "        current_hex_cell, current_budget = queue.pop(0)  # Pobierz pierwszy element z kolejki\n",
    "\n",
    "        # Dodaj instrukcje print tutaj, aby śledzić aktualne wartości\n",
    "        print(f\"Obecna komórka: {current_hex_cell}, Pozostały budżet: {current_budget}\")\n",
    "\n",
    "        list_available_cells, list_budgets = get_all_possible(current_hex_cell, current_budget)\n",
    "\n",
    "        # Wyświetl dostępne komórki\n",
    "        print(f\"Dostępne komórki: {list_available_cells}\")\n",
    "\n",
    "        # Filtruj komórki, które już zostały odwiedzone\n",
    "        new_cells = [cell for cell in list_available_cells if cell not in list_trade_areas]\n",
    "\n",
    "        # Wyświetl nowe komórki do odwiedzenia\n",
    "        print(f\"Nowe komórki do odwiedzenia: {new_cells}\")\n",
    "\n",
    "        # Dodaj nowe komórki do listy odwiedzonych obszarów\n",
    "        list_trade_areas.extend(new_cells)\n",
    "\n",
    "        # Dodaj nowe komórki do kolejki wraz z ich pozostałym budżetem\n",
    "        queue.extend(zip(new_cells, list_budgets))\n",
    "\n",
    "    return list_trade_areas\n",
    "\n",
    "\n",
    "h3_start = h3.geo_to_h3(50.095, 19.9075, 8)\n",
    "\n",
    "list_heks =[]\n",
    "ta_gdf=pd.DataFrame()\n",
    "\n",
    "for heks in set(get_trade_area(h3_start, 600)):\n",
    "    heks_geom = h3.h3_to_geo_boundary(heks)\n",
    "    gdf = gpd.GeoDataFrame(geometry=[Polygon(heks_geom)])\n",
    "    list_heks.append(gdf)\n",
    "\n",
    "gdf_ta = pd.concat(list_heks)\n",
    "gdf_ta = gdf_ta.geometry.map(lambda polygon: shapely.ops.transform(lambda x, y: (y, x), polygon))\n",
    "\n"
   ]
  },
  {
   "cell_type": "code",
   "execution_count": null,
   "metadata": {},
   "outputs": [],
   "source": [
    "def get_all_possible(hex_cell, budget):\n",
    "    neighbors = h3.k_ring(hex_cell, 1)\n",
    "    list_available_cells = []\n",
    "    list_budgets = []\n",
    "\n",
    "    for h3_nejb in neighbors:\n",
    "        mask = (new_df['from'] == hex_cell) & (new_df['to'] == h3_nejb)\n",
    "        if not new_df[mask].empty:\n",
    "            h3_nejb_time = new_df[mask]['time'].values[0]\n",
    "            if h3_nejb_time <= budget:\n",
    "                list_available_cells.append(h3_nejb)\n",
    "                list_budgets.append(budget - h3_nejb_time)\n",
    "        else:\n",
    "            print(f\"Brak danych dla przejścia z {hex_cell} do {h3_nejb}\")\n",
    "    return list_available_cells, list_budgets"
   ]
  },
  {
   "cell_type": "code",
   "execution_count": null,
   "metadata": {},
   "outputs": [],
   "source": []
  },
  {
   "cell_type": "code",
   "execution_count": 37,
   "metadata": {},
   "outputs": [
    {
     "data": {
      "image/png": "[encoded data removed]",
      "text/plain": [
       "<Figure size 640x480 with 1 Axes>"
      ]
     },
     "metadata": {},
     "output_type": "display_data"
    }
   ],
   "source": [
    "gdf_ta.plot()\n",
    "# gdf_ta.to_file(os.path.join(folder_proj,'test_krk.shp'))"
   ]
  }
 ],
 "metadata": {
  "kernelspec": {
   "display_name": "GeoPython_Ukraine2024_v2",
   "language": "python",
   "name": "python3"
  },
  "language_info": {
   "codemirror_mode": {
    "name": "ipython",
    "version": 3
   },
   "file_extension": ".py",
   "mimetype": "text/x-python",
   "name": "python",
   "nbconvert_exporter": "python",
   "pygments_lexer": "ipython3",
   "version": "3.10.13"
  }
 },
 "nbformat": 4,
 "nbformat_minor": 2
}
