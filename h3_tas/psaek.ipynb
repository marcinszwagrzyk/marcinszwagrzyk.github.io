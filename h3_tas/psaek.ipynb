{
 "cells": [
  {
   "cell_type": "code",
   "execution_count": 2,
   "metadata": {},
   "outputs": [
    {
     "data": {
      "image/png": "[encoded data removed]",
      "text/plain": [
       "<Figure size 300x1200 with 1 Axes>"
      ]
     },
     "metadata": {},
     "output_type": "display_data"
    }
   ],
   "source": [
    "import matplotlib.pyplot as plt\n",
    "import matplotlib.patches as patches\n",
    "from matplotlib.patches import FancyBboxPatch\n",
    "\n",
    "# Dane wejściowe\n",
    "wartosci = [300, 150, 20, 80, 200]\n",
    "kolory = ['darkred', 'lightcoral', 'grey', 'lightblue', 'darkblue']\n",
    "etykiety = [str(w) for w in wartosci]\n",
    "\n",
    "# Obliczenia proporcji i wysokości segmentów\n",
    "suma_wartosci = sum(wartosci)\n",
    "wysokosci = [ (w / suma_wartosci) * 6 for w in wartosci ]  # wysokości w cm\n",
    "\n",
    "# Obliczenie pozycji dolnych segmentów\n",
    "pozycje_dolne = [0]\n",
    "for h in wysokosci[:-1]:\n",
    "    pozycje_dolne.append(pozycje_dolne[-1] + h)\n",
    "\n",
    "# Sumowanie wartości dla niebieskich i czerwonych\n",
    "suma_czerwone = wartosci[0] + wartosci[1]\n",
    "suma_niebieskie = wartosci[3] + wartosci[4]\n",
    "\n",
    "# Tworzenie wykresu\n",
    "fig, ax = plt.subplots(figsize=(3, 12))\n",
    "\n",
    "# Rysowanie segmentów i dodawanie etykiet\n",
    "for i in range(len(wartosci)):\n",
    "    rect = patches.Rectangle((0, pozycje_dolne[i]), 1, wysokosci[i], facecolor=kolory[i], edgecolor='black')\n",
    "    ax.add_patch(rect)\n",
    "    x = 0.5  # środek w osi x\n",
    "    y = pozycje_dolne[i] + wysokosci[i]/2  # środek segmentu w osi y\n",
    "    ax.text(x, y, etykiety[i], ha='center', va='center', fontsize=12, color='white')\n",
    "\n",
    "# Dodanie klamer po prawej stronie\n",
    "# Klamra dla czerwonych segmentów\n",
    "ax.plot([1.1, 1.1], [pozycje_dolne[0], pozycje_dolne[1] + wysokosci[1]], color='black', lw=2)\n",
    "ax.plot([1.1, 1.05], [pozycje_dolne[0], pozycje_dolne[0]], color='black', lw=2)\n",
    "ax.plot([1.1, 1.05], [pozycje_dolne[1] + wysokosci[1], pozycje_dolne[1] + wysokosci[1]], color='black', lw=2)\n",
    "ax.text(1.2, (pozycje_dolne[0] + pozycje_dolne[1] + wysokosci[1]) / 2, str(suma_czerwone),\n",
    "        ha='left', va='center', fontsize=12, color='black')\n",
    "\n",
    "# Klamra dla niebieskich segmentów\n",
    "ax.plot([1.1, 1.1], [pozycje_dolne[3], pozycje_dolne[4] + wysokosci[4]], color='black', lw=2)\n",
    "ax.plot([1.1, 1.05], [pozycje_dolne[3], pozycje_dolne[3]], color='black', lw=2)\n",
    "ax.plot([1.1, 1.05], [pozycje_dolne[4] + wysokosci[4], pozycje_dolne[4] + wysokosci[4]], color='black', lw=2)\n",
    "ax.text(1.2, (pozycje_dolne[3] + pozycje_dolne[4] + wysokosci[4]) / 2, str(suma_niebieskie),\n",
    "        ha='left', va='center', fontsize=12, color='black')\n",
    "\n",
    "# Ustawienia osi i wyświetlenie wykresu\n",
    "ax.set_xlim(0, 1.5)\n",
    "ax.set_ylim(0, 6)\n",
    "ax.axis('off')\n",
    "\n",
    "plt.show()"
   ]
  },
  {
   "cell_type": "code",
   "execution_count": null,
   "metadata": {},
   "outputs": [],
   "source": []
  }
 ],
 "metadata": {
  "kernelspec": {
   "display_name": "GeoPyton",
   "language": "python",
   "name": "python3"
  },
  "language_info": {
   "codemirror_mode": {
    "name": "ipython",
    "version": 3
   },
   "file_extension": ".py",
   "mimetype": "text/x-python",
   "name": "python",
   "nbconvert_exporter": "python",
   "pygments_lexer": "ipython3",
   "version": "3.9.20"
  }
 },
 "nbformat": 4,
 "nbformat_minor": 2
}
