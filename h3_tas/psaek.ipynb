{
 "cells": [
  {
   "cell_type": "code",
   "execution_count": null,
   "metadata": {
    "vscode": {
     "languageId": "plaintext"
    }
   },
   "outputs": [],
   "source": [
    "import matplotlib.pyplot as plt\n",
    "import matplotlib.patches as patches\n",
    "\n",
    "# Dane wejściowe\n",
    "wartosci = [300, 150, 20, 80, 200]\n",
    "kolory = ['darkred', 'lightcoral', 'grey', 'lightblue', 'darkblue']\n",
    "etykiety = [str(w) for w in wartosci]\n",
    "\n",
    "# Obliczenia proporcji i wysokości segmentów\n",
    "suma_wartosci = sum(wartosci)\n",
    "wysokosci = [ (w / suma_wartosci) * 6 for w in wartosci ]  # wysokości w cm\n",
    "\n",
    "# Obliczenie pozycji dolnych segmentów\n",
    "pozycje_dolne = [0]\n",
    "for h in wysokosci[:-1]:\n",
    "    pozycje_dolne.append(pozycje_dolne[-1] + h)\n",
    "\n",
    "# Tworzenie wykresu\n",
    "fig, ax = plt.subplots(figsize=(2, 12))\n",
    "\n",
    "# Rysowanie segmentów i dodawanie etykiet\n",
    "for i in range(len(wartosci)):\n",
    "    rect = patches.Rectangle((0, pozycje_dolne[i]), 1, wysokosci[i], facecolor=kolory[i], edgecolor='black')\n",
    "    ax.add_patch(rect)\n",
    "    x = 0.5  # środek w osi x\n",
    "    y = pozycje_dolne[i] + wysokosci[i]/2  # środek segmentu w osi y\n",
    "    ax.text(x, y, etykiety[i], ha='center', va='center', fontsize=12, color='white')\n",
    "\n",
    "# Ustawienia osi i wyświetlenie wykresu\n",
    "ax.set_xlim(0, 1)\n",
    "ax.set_ylim(0, 6)\n",
    "ax.axis('off')\n",
    "\n",
    "plt.show()\n"
   ]
  }
 ],
 "metadata": {
  "language_info": {
   "name": "python"
  }
 },
 "nbformat": 4,
 "nbformat_minor": 2
}
