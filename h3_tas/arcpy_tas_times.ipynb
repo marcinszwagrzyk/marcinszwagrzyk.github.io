{
 "cells": [
  {
   "cell_type": "code",
   "execution_count": null,
   "metadata": {
    "vscode": {
     "languageId": "plaintext"
    }
   },
   "outputs": [],
   "source": [
    "import arcpy\n",
    "\n",
    "# Ścieżki do danych\n",
    "network_dataset = \"ścieżka_do_network_dataset\"\n",
    "origins = \"ścieżka_do_centroidów_heksów\"\n",
    "destinations = \"ścieżka_do_centroidów_sąsiadów\"\n",
    "output_layer = \"OD_Matrix_Layer\"\n",
    "\n",
    "# Tworzenie warstwy OD Cost Matrix\n",
    "arcpy.na.MakeODCostMatrixLayer(network_dataset, output_layer, \"TravelTime\")\n",
    "\n",
    "# Dodawanie punktów początkowych i końcowych\n",
    "arcpy.na.AddLocations(output_layer, \"Origins\", origins)\n",
    "arcpy.na.AddLocations(output_layer, \"Destinations\", destinations)\n",
    "\n",
    "# Uruchomienie analizy\n",
    "arcpy.na.Solve(output_layer)\n",
    "\n",
    "# Eksport wyników\n",
    "arcpy.management.CopyRows(f\"{output_layer}\\\\Lines\", \"ścieżka_do_wyników\")\n"
   ]
  }
 ],
 "metadata": {
  "language_info": {
   "name": "python"
  }
 },
 "nbformat": 4,
 "nbformat_minor": 2
}
