{
 "cells": [
  {
   "cell_type": "code",
   "execution_count": null,
   "metadata": {
    "vscode": {
     "languageId": "plaintext"
    }
   },
   "outputs": [],
   "source": [
    "import arcpy\n",
    "\n",
    "# Ścieżki do danych\n",
    "network_dataset = \"ścieżka_do_network_dataset\"\n",
    "origins = \"ścieżka_do_centroidów_heksów\"\n",
    "destinations = \"ścieżka_do_centroidów_sąsiadów\"\n",
    "output_layer = \"OD_Matrix_Layer\"\n",
    "\n",
    "# Tworzenie warstwy OD Cost Matrix\n",
    "arcpy.na.MakeODCostMatrixLayer(network_dataset, output_layer, \"TravelTime\")\n",
    "\n",
    "# Dodawanie punktów początkowych i końcowych\n",
    "arcpy.na.AddLocations(output_layer, \"Origins\", origins)\n",
    "arcpy.na.AddLocations(output_layer, \"Destinations\", destinations)\n",
    "\n",
    "# Uruchomienie analizy\n",
    "arcpy.na.Solve(output_layer)\n",
    "\n",
    "# Eksport wyników\n",
    "arcpy.management.CopyRows(f\"{output_layer}\\\\Lines\", \"ścieżka_do_wyników\")\n"
   ]
  },
  {
   "cell_type": "code",
   "execution_count": null,
   "metadata": {
    "vscode": {
     "languageId": "plaintext"
    }
   },
   "outputs": [],
   "source": [
    "resolution = 8  # Możesz dostosować tę wartość\n"
   ]
  },
  {
   "cell_type": "code",
   "execution_count": null,
   "metadata": {
    "vscode": {
     "languageId": "plaintext"
    }
   },
   "outputs": [],
   "source": [
    "import h3\n",
    "\n",
    "def polygon_to_h3(geometry, resolution):\n",
    "    # Konwertuj geometrię do formatu GeoJSON\n",
    "    geojson = geometry.__geo_interface__\n",
    "    # Generuj indeksy H3 pokrywające geometrię\n",
    "    h3_indices = h3.polyfill(geojson, resolution, geo_json_conformant=True)\n",
    "    return h3_indices\n"
   ]
  },
  {
   "cell_type": "code",
   "execution_count": null,
   "metadata": {
    "vscode": {
     "languageId": "plaintext"
    }
   },
   "outputs": [],
   "source": [
    "from shapely.geometry import Polygon\n",
    "import pandas as pd\n",
    "\n",
    "# Lista do przechowywania wyników\n",
    "h3_list = []\n",
    "\n",
    "for idx, row in poligony.iterrows():\n",
    "    geometry = row['geometry']\n",
    "    h3_indices = polygon_to_h3(geometry, resolution)\n",
    "    for h3_idx in h3_indices:\n",
    "        h3_list.append({'h3_index': h3_idx, 'source_id': idx})\n"
   ]
  },
  {
   "cell_type": "code",
   "execution_count": null,
   "metadata": {
    "vscode": {
     "languageId": "plaintext"
    }
   },
   "outputs": [],
   "source": [
    "def h3_index_to_polygon(h3_index):\n",
    "    # Pobierz współrzędne wierzchołków heksagonu\n",
    "    boundary = h3.h3_to_geo_boundary(h3_index, geo_json=True)\n",
    "    # Utwórz poligon\n",
    "    return Polygon(boundary)\n",
    "\n",
    "# Dodaj geometrię do danych\n",
    "for item in h3_list:\n",
    "    item['geometry'] = h3_index_to_polygon(item['h3_index'])\n"
   ]
  },
  {
   "cell_type": "code",
   "execution_count": null,
   "metadata": {
    "vscode": {
     "languageId": "plaintext"
    }
   },
   "outputs": [],
   "source": [
    "# Tworzenie DataFrame\n",
    "df_h3 = pd.DataFrame(h3_list)\n",
    "\n",
    "# Tworzenie GeoDataFrame\n",
    "gdf_h3 = gpd.GeoDataFrame(df_h3, geometry='geometry', crs='EPSG:4326')\n",
    "gdf_h3 = gdf_h3.drop_duplicates(subset=['h3_index'])\n",
    "\n"
   ]
  },
  {
   "cell_type": "code",
   "execution_count": null,
   "metadata": {
    "vscode": {
     "languageId": "plaintext"
    }
   },
   "outputs": [],
   "source": [
    "gdf_h3.to_file('h3_heksagony.shp')\n"
   ]
  },
  {
   "cell_type": "code",
   "execution_count": null,
   "metadata": {
    "vscode": {
     "languageId": "plaintext"
    }
   },
   "outputs": [],
   "source": [
    "import h3\n",
    "import pandas as pd\n",
    "import geopandas as gpd\n",
    "from shapely.geometry import LineString\n",
    "\n",
    "# Lista heksów\n",
    "hex_list = [\n",
    "    '8928308280fffff',\n",
    "    '8928308280bffff',\n",
    "    '89283082807ffff',\n",
    "    # Dodaj więcej identyfikatorów heksów\n",
    "]\n",
    "\n",
    "unique_edges = {}\n",
    "\n",
    "for h in hex_list:\n",
    "    neighbors = h3.k_ring(h, 1)\n",
    "    neighbors.discard(h)\n",
    "    for neighbor in neighbors:\n",
    "        if neighbor in hex_list:\n",
    "            # Uzyskaj niekierowany identyfikator krawędzi\n",
    "            undirected_edge = h3.get_undirected_edge(h, neighbor)\n",
    "            if undirected_edge not in unique_edges:\n",
    "                # Uzyskaj skierowany identyfikator krawędzi\n",
    "                directed_edge = h3.get_directed_edge(h, neighbor)\n",
    "                # Uzyskaj geometrię krawędzi\n",
    "                edge_boundary = h3.h3_unidirectional_edge_boundary(directed_edge)\n",
    "                line = LineString(edge_boundary)\n",
    "                # Dodaj krawędź do słownika\n",
    "                unique_edges[undirected_edge] = {\n",
    "                    'edge_id': undirected_edge,\n",
    "                    'geometry': line\n",
    "                }\n",
    "\n",
    "# Stworzenie GeoDataFrame\n",
    "edges_gdf = gpd.GeoDataFrame.from_dict(unique_edges, orient='index')\n",
    "edges_gdf.reset_index(drop=True, inplace=True)\n",
    "edges_gdf.crs = 'EPSG:4326'\n",
    "\n",
    "# Opcjonalnie: wizualizacja\n",
    "edges_gdf.plot()\n",
    "\n",
    "# Opcjonalnie: zapis do pliku\n",
    "edges_gdf.to_file('edges.geojson', driver='GeoJSON')\n"
   ]
  }
 ],
 "metadata": {
  "language_info": {
   "name": "python"
  }
 },
 "nbformat": 4,
 "nbformat_minor": 2
}
