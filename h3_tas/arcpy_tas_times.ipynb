{
 "cells": [
  {
   "cell_type": "code",
   "execution_count": null,
   "metadata": {
    "vscode": {
     "languageId": "plaintext"
    }
   },
   "outputs": [],
   "source": [
    "import arcpy\n",
    "\n",
    "# Ścieżki do danych\n",
    "network_dataset = \"ścieżka_do_network_dataset\"\n",
    "origins = \"ścieżka_do_centroidów_heksów\"\n",
    "destinations = \"ścieżka_do_centroidów_sąsiadów\"\n",
    "output_layer = \"OD_Matrix_Layer\"\n",
    "\n",
    "# Tworzenie warstwy OD Cost Matrix\n",
    "arcpy.na.MakeODCostMatrixLayer(network_dataset, output_layer, \"TravelTime\")\n",
    "\n",
    "# Dodawanie punktów początkowych i końcowych\n",
    "arcpy.na.AddLocations(output_layer, \"Origins\", origins)\n",
    "arcpy.na.AddLocations(output_layer, \"Destinations\", destinations)\n",
    "\n",
    "# Uruchomienie analizy\n",
    "arcpy.na.Solve(output_layer)\n",
    "\n",
    "# Eksport wyników\n",
    "arcpy.management.CopyRows(f\"{output_layer}\\\\Lines\", \"ścieżka_do_wyników\")\n"
   ]
  },
  {
   "cell_type": "code",
   "execution_count": null,
   "metadata": {
    "vscode": {
     "languageId": "plaintext"
    }
   },
   "outputs": [],
   "source": [
    "python\n",
    "Copy code\n",
    "import geopandas as gpd\n",
    "\n",
    "# Wczytaj plik z granicami Bay Area\n",
    "granice = gpd.read_file('sciezka/do/pliku/granice_bay_area.geojson')"
   ]
  },
  {
   "cell_type": "code",
   "execution_count": null,
   "metadata": {
    "vscode": {
     "languageId": "plaintext"
    }
   },
   "outputs": [],
   "source": [
    "import h3\n",
    "from shapely.geometry import Polygon\n",
    "\n",
    "def generate_h3_hexagons(geometry, resolution):\n",
    "    # Konwertuj geometrię do formatu GeoJSON\n",
    "    geojson = geometry.__geo_interface__\n",
    "    # Generuj indeksy H3 pokrywające geometrię\n",
    "    h3_indices = h3.polyfill(geojson, resolution, geo_json_conformant=True)\n",
    "    return h3_indices\n"
   ]
  },
  {
   "cell_type": "code",
   "execution_count": null,
   "metadata": {
    "vscode": {
     "languageId": "plaintext"
    }
   },
   "outputs": [],
   "source": [
    "from shapely.geometry import Polygon\n",
    "\n",
    "def h3_index_to_polygon(h3_index):\n",
    "    # Pobierz współrzędne wierzchołków heksagonu\n",
    "    boundary = h3.h3_to_geo_boundary(h3_index, geo_json=True)\n",
    "    # Utwórz poligon\n",
    "    return Polygon(boundary)\n",
    "\n",
    "# Stwórz listę poligonów\n",
    "polygons = [h3_index_to_polygon(h3_idx) for h3_idx in h3_indices]\n"
   ]
  },
  {
   "cell_type": "code",
   "execution_count": null,
   "metadata": {
    "vscode": {
     "languageId": "plaintext"
    }
   },
   "outputs": [],
   "source": [
    "# Zapis do pliku Shapefile\n",
    "hexagons_gdf.to_file('heksagony_bay_area.shp')\n",
    "\n",
    "# Lub zapis do pliku GeoJSON\n",
    "hexagons_gdf.to_file('heksagony_bay_area.geojson', driver='GeoJSON')\n"
   ]
  }
 ],
 "metadata": {
  "language_info": {
   "name": "python"
  }
 },
 "nbformat": 4,
 "nbformat_minor": 2
}
